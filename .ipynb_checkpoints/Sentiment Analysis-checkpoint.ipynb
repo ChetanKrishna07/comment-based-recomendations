{
 "cells": [
  {
   "cell_type": "code",
   "execution_count": 1,
   "id": "565d5367",
   "metadata": {},
   "outputs": [],
   "source": [
    "import pandas as pd\n",
    "import numpy as np\n",
    "import matplotlib.pyplot as plt\n",
    "import re"
   ]
  },
  {
   "cell_type": "code",
   "execution_count": 2,
   "id": "35ad5f7e",
   "metadata": {},
   "outputs": [
    {
     "name": "stdout",
     "output_type": "stream",
     "text": [
      "Num GPUs Available:  1\n"
     ]
    }
   ],
   "source": [
    "import tensorflow as tf\n",
    "print(\"Num GPUs Available: \", len(tf.config.list_physical_devices('GPU')))"
   ]
  },
  {
   "cell_type": "code",
   "execution_count": 4,
   "id": "05ca02e6",
   "metadata": {},
   "outputs": [],
   "source": [
    "import nltk\n",
    "# nltk.download('stopwords')\n",
    "from nltk.corpus import stopwords"
   ]
  },
  {
   "cell_type": "code",
   "execution_count": 5,
   "id": "f926eece",
   "metadata": {},
   "outputs": [],
   "source": [
    "from nltk.stem.porter import PorterStemmer\n",
    "from nltk.tokenize import word_tokenize as wt \n",
    "from autocorrect import Speller"
   ]
  },
  {
   "cell_type": "code",
   "execution_count": 6,
   "id": "7c7d6261",
   "metadata": {},
   "outputs": [
    {
     "name": "stderr",
     "output_type": "stream",
     "text": [
      "[nltk_data] Error loading punkt: <urlopen error [WinError 10060] A\n",
      "[nltk_data]     connection attempt failed because the connected party\n",
      "[nltk_data]     did not properly respond after a period of time, or\n",
      "[nltk_data]     established connection failed because connected host\n",
      "[nltk_data]     has failed to respond>\n"
     ]
    },
    {
     "data": {
      "text/plain": [
       "False"
      ]
     },
     "execution_count": 6,
     "metadata": {},
     "output_type": "execute_result"
    }
   ],
   "source": [
    "nltk.download('punkt')"
   ]
  },
  {
   "cell_type": "code",
   "execution_count": 7,
   "id": "29a44cd0",
   "metadata": {},
   "outputs": [
    {
     "data": {
      "text/html": [
       "<div>\n",
       "<style scoped>\n",
       "    .dataframe tbody tr th:only-of-type {\n",
       "        vertical-align: middle;\n",
       "    }\n",
       "\n",
       "    .dataframe tbody tr th {\n",
       "        vertical-align: top;\n",
       "    }\n",
       "\n",
       "    .dataframe thead th {\n",
       "        text-align: right;\n",
       "    }\n",
       "</style>\n",
       "<table border=\"1\" class=\"dataframe\">\n",
       "  <thead>\n",
       "    <tr style=\"text-align: right;\">\n",
       "      <th></th>\n",
       "      <th>phrase</th>\n",
       "      <th>sentiment_values</th>\n",
       "    </tr>\n",
       "  </thead>\n",
       "  <tbody>\n",
       "    <tr>\n",
       "      <th>0</th>\n",
       "      <td>The Rock is destined to be the 21st Century's ...</td>\n",
       "      <td>3</td>\n",
       "    </tr>\n",
       "    <tr>\n",
       "      <th>1</th>\n",
       "      <td>The gorgeously elaborate continuation of `` Th...</td>\n",
       "      <td>4</td>\n",
       "    </tr>\n",
       "    <tr>\n",
       "      <th>2</th>\n",
       "      <td>Singer\\/composer Bryan Adams contributes a sle...</td>\n",
       "      <td>3</td>\n",
       "    </tr>\n",
       "    <tr>\n",
       "      <th>3</th>\n",
       "      <td>You'd think by now America would have had enou...</td>\n",
       "      <td>2</td>\n",
       "    </tr>\n",
       "    <tr>\n",
       "      <th>4</th>\n",
       "      <td>Yet the act is still charming here .</td>\n",
       "      <td>3</td>\n",
       "    </tr>\n",
       "  </tbody>\n",
       "</table>\n",
       "</div>"
      ],
      "text/plain": [
       "                                              phrase  sentiment_values\n",
       "0  The Rock is destined to be the 21st Century's ...                 3\n",
       "1  The gorgeously elaborate continuation of `` Th...                 4\n",
       "2  Singer\\/composer Bryan Adams contributes a sle...                 3\n",
       "3  You'd think by now America would have had enou...                 2\n",
       "4               Yet the act is still charming here .                 3"
      ]
     },
     "execution_count": 7,
     "metadata": {},
     "output_type": "execute_result"
    }
   ],
   "source": [
    "train = pd.read_csv(\"sst/train.csv\")\n",
    "train.drop([\"Unnamed: 0\"], axis=1, inplace=True)\n",
    "train.head()"
   ]
  },
  {
   "cell_type": "code",
   "execution_count": 8,
   "id": "9fd7c8e8",
   "metadata": {},
   "outputs": [
    {
     "data": {
      "text/plain": [
       "(27483, 2)"
      ]
     },
     "execution_count": 8,
     "metadata": {},
     "output_type": "execute_result"
    }
   ],
   "source": [
    "train.shape"
   ]
  },
  {
   "cell_type": "code",
   "execution_count": 11,
   "id": "0d4ec9a4",
   "metadata": {},
   "outputs": [
    {
     "data": {
      "text/html": [
       "<div>\n",
       "<style scoped>\n",
       "    .dataframe tbody tr th:only-of-type {\n",
       "        vertical-align: middle;\n",
       "    }\n",
       "\n",
       "    .dataframe tbody tr th {\n",
       "        vertical-align: top;\n",
       "    }\n",
       "\n",
       "    .dataframe thead th {\n",
       "        text-align: right;\n",
       "    }\n",
       "</style>\n",
       "<table border=\"1\" class=\"dataframe\">\n",
       "  <thead>\n",
       "    <tr style=\"text-align: right;\">\n",
       "      <th></th>\n",
       "      <th>phrase</th>\n",
       "      <th>sentiment_values</th>\n",
       "    </tr>\n",
       "  </thead>\n",
       "  <tbody>\n",
       "    <tr>\n",
       "      <th>0</th>\n",
       "      <td>Effective but too-tepid biopic</td>\n",
       "      <td>2</td>\n",
       "    </tr>\n",
       "    <tr>\n",
       "      <th>1</th>\n",
       "      <td>If you sometimes like to go to the movies to h...</td>\n",
       "      <td>3</td>\n",
       "    </tr>\n",
       "    <tr>\n",
       "      <th>2</th>\n",
       "      <td>Emerges as something rare , an issue movie tha...</td>\n",
       "      <td>4</td>\n",
       "    </tr>\n",
       "    <tr>\n",
       "      <th>3</th>\n",
       "      <td>The film provides some great insight into the ...</td>\n",
       "      <td>2</td>\n",
       "    </tr>\n",
       "    <tr>\n",
       "      <th>4</th>\n",
       "      <td>Offers that rare combination of entertainment ...</td>\n",
       "      <td>4</td>\n",
       "    </tr>\n",
       "  </tbody>\n",
       "</table>\n",
       "</div>"
      ],
      "text/plain": [
       "                                              phrase  sentiment_values\n",
       "0                     Effective but too-tepid biopic                 2\n",
       "1  If you sometimes like to go to the movies to h...                 3\n",
       "2  Emerges as something rare , an issue movie tha...                 4\n",
       "3  The film provides some great insight into the ...                 2\n",
       "4  Offers that rare combination of entertainment ...                 4"
      ]
     },
     "execution_count": 11,
     "metadata": {},
     "output_type": "execute_result"
    }
   ],
   "source": [
    "test = pd.read_csv(\"sst/test.csv\")\n",
    "test.drop([\"Unnamed: 0\"], axis=1, inplace=True)\n",
    "test.head()"
   ]
  },
  {
   "cell_type": "code",
   "execution_count": 12,
   "id": "7faa6f5e",
   "metadata": {},
   "outputs": [
    {
     "data": {
      "text/plain": [
       "(2125, 2)"
      ]
     },
     "execution_count": 12,
     "metadata": {},
     "output_type": "execute_result"
    }
   ],
   "source": [
    "test.shape"
   ]
  },
  {
   "cell_type": "code",
   "execution_count": 13,
   "id": "a2a674c8",
   "metadata": {},
   "outputs": [],
   "source": [
    "stemmer = PorterStemmer()"
   ]
  },
  {
   "cell_type": "code",
   "execution_count": 14,
   "id": "e96f5e8e",
   "metadata": {},
   "outputs": [],
   "source": [
    "spell = Speller()"
   ]
  },
  {
   "cell_type": "code",
   "execution_count": 15,
   "id": "d241718a",
   "metadata": {
    "scrolled": true
   },
   "outputs": [
    {
     "name": "stdout",
     "output_type": "stream",
     "text": [
      "0 10 20 30 40 50 60 70 80 90 100 110 120 130 140 150 160 170 180 190 200 210 220 230 240 250 260 270 280 290 300 310 320 330 340 350 360 370 380 390 400 410 420 430 440 450 460 470 480 490 500 510 520 530 540 550 560 570 580 590 600 610 620 630 640 650 660 670 680 690 700 710 720 730 740 750 760 770 780 790 800 810 820 830 840 850 860 870 880 890 900 910 920 930 940 950 960 970 980 990 1000 1010 1020 1030 1040 1050 1060 1070 1080 1090 1100 1110 1120 1130 1140 1150 1160 1170 1180 1190 1200 1210 1220 1230 1240 1250 1260 1270 1280 1290 1300 1310 1320 1330 1340 1350 1360 1370 1380 1390 1400 1410 1420 1430 1440 1450 1460 1470 1480 1490 1500 1510 1520 1530 1540 1550 1560 1570 1580 1590 1600 1610 1620 1630 1640 1650 1660 1670 1680 1690 1700 1710 1720 1730 1740 1750 1760 1770 1780 1790 1800 1810 1820 1830 1840 1850 1860 1870 1880 1890 1900 1910 1920 1930 1940 1950 1960 1970 1980 1990 2000 2010 2020 2030 2040 2050 2060 2070 2080 2090 2100 2110 2120 2130 2140 2150 2160 2170 2180 2190 2200 2210 2220 2230 2240 2250 2260 2270 2280 2290 2300 2310 2320 2330 2340 2350 2360 2370 2380 2390 2400 2410 2420 2430 2440 2450 2460 2470 2480 2490 2500 2510 2520 2530 2540 2550 2560 2570 2580 2590 2600 2610 2620 2630 2640 2650 2660 2670 2680 2690 2700 2710 2720 2730 2740 2750 2760 2770 2780 2790 2800 2810 2820 2830 2840 2850 2860 2870 2880 2890 2900 2910 2920 2930 2940 2950 2960 2970 2980 2990 3000 3010 3020 3030 3040 3050 3060 3070 3080 3090 3100 3110 3120 3130 3140 3150 3160 3170 3180 3190 3200 3210 3220 3230 3240 3250 3260 3270 3280 3290 3300 3310 3320 3330 3340 3350 3360 3370 3380 3390 3400 3410 3420 3430 3440 3450 3460 3470 3480 3490 3500 3510 3520 3530 3540 3550 3560 3570 3580 3590 3600 3610 3620 3630 3640 3650 3660 3670 3680 3690 3700 3710 3720 3730 3740 3750 3760 3770 3780 3790 3800 3810 3820 3830 3840 3850 3860 3870 3880 3890 3900 3910 3920 3930 3940 3950 3960 3970 3980 3990 4000 4010 4020 4030 4040 4050 4060 4070 4080 4090 4100 4110 4120 4130 4140 4150 4160 4170 4180 4190 4200 4210 4220 4230 4240 4250 4260 4270 4280 4290 4300 4310 4320 4330 4340 4350 4360 4370 4380 4390 4400 4410 4420 4430 4440 4450 4460 4470 4480 4490 4500 4510 4520 4530 4540 4550 4560 4570 4580 4590 4600 4610 4620 4630 4640 4650 4660 4670 4680 4690 4700 4710 4720 4730 4740 4750 4760 4770 4780 4790 4800 4810 4820 4830 4840 4850 4860 4870 4880 4890 4900 4910 4920 4930 4940 4950 4960 4970 4980 4990 5000 5010 5020 5030 5040 5050 5060 5070 5080 5090 5100 5110 5120 5130 5140 5150 5160 5170 5180 5190 5200 5210 5220 5230 5240 5250 5260 5270 5280 5290 5300 5310 5320 5330 5340 5350 5360 5370 5380 5390 5400 5410 5420 5430 5440 5450 5460 5470 5480 5490 5500 5510 5520 5530 5540 5550 5560 5570 5580 5590 5600 5610 5620 5630 5640 5650 5660 5670 5680 5690 5700 5710 5720 5730 5740 5750 5760 5770 5780 5790 5800 5810 5820 5830 5840 5850 5860 5870 5880 5890 5900 5910 5920 5930 5940 5950 5960 5970 5980 5990 6000 6010 6020 6030 6040 6050 6060 6070 6080 6090 6100 6110 6120 6130 6140 6150 6160 6170 6180 6190 6200 6210 6220 6230 6240 6250 6260 6270 6280 6290 6300 6310 6320 6330 6340 6350 6360 6370 6380 6390 6400 6410 6420 6430 6440 6450 6460 6470 6480 6490 6500 6510 6520 6530 6540 6550 6560 6570 6580 6590 6600 6610 6620 6630 6640 6650 6660 6670 6680 6690 6700 6710 6720 6730 6740 6750 6760 6770 6780 6790 6800 6810 6820 6830 6840 6850 6860 6870 6880 6890 6900 6910 6920 6930 6940 6950 6960 6970 6980 6990 7000 7010 7020 7030 7040 7050 7060 7070 7080 7090 7100 7110 7120 7130 7140 7150 7160 7170 7180 7190 7200 7210 7220 7230 7240 7250 7260 7270 7280 7290 7300 7310 7320 7330 7340 7350 7360 7370 7380 7390 7400 7410 7420 7430 7440 7450 7460 7470 7480 7490 7500 7510 7520 7530 7540 7550 7560 7570 7580 7590 7600 7610 7620 7630 7640 7650 7660 7670 7680 7690 7700 7710 7720 7730 7740 7750 7760 7770 7780 7790 7800 7810 7820 7830 7840 7850 7860 7870 7880 7890 7900 7910 7920 7930 7940 7950 7960 7970 7980 7990 8000 8010 8020 8030 8040 8050 8060 8070 8080 8090 8100 8110 8120 8130 8140 8150 8160 8170 8180 8190 8200 8210 8220 8230 8240 8250 8260 8270 8280 8290 8300 8310 8320 8330 8340 8350 8360 8370 8380 8390 8400 8410 8420 8430 8440 8450 8460 8470 8480 8490 8500 8510 8520 8530 8540 8550 8560 8570 8580 8590 8600 8610 8620 8630 8640 8650 8660 8670 8680 8690 8700 8710 8720 8730 8740 8750 8760 8770 8780 8790 8800 8810 8820 8830 8840 8850 8860 8870 8880 8890 8900 8910 8920 8930 8940 8950 8960 8970 8980 8990 9000 9010 9020 9030 9040 9050 9060 9070 9080 9090 9100 9110 9120 9130 9140 9150 9160 9170 9180 9190 9200 9210 9220 9230 9240 9250 9260 9270 9280 9290 9300 9310 9320 9330 9340 9350 9360 9370 9380 9390 9400 9410 9420 9430 9440 9450 9460 9470 9480 9490 9500 9510 9520 9530 9540 9550 9560 9570 9580 9590 9600 9610 9620 9630 9640 9650 9660 9670 9680 9690 9700 9710 9720 9730 9740 9750 9760 9770 9780 9790 9800 9810 9820 9830 9840 9850 9860 9870 9880 9890 9900 9910 9920 9930 9940 9950 9960 9970 9980 9990 10000 10010 10020 10030 10040 10050 10060 10070 10080 10090 10100 10110 10120 10130 10140 10150 10160 10170 10180 10190 10200 10210 10220 10230 10240 10250 10260 10270 10280 10290 10300 10310 10320 10330 10340 10350 10360 10370 10380 10390 10400 10410 10420 10430 10440 10450 10460 10470 10480 10490 10500 10510 10520 10530 10540 10550 10560 10570 10580 10590 10600 10610 10620 10630 10640 10650 10660 10670 10680 10690 10700 10710 10720 10730 10740 10750 10760 10770 10780 10790 10800 10810 10820 10830 10840 10850 10860 10870 10880 10890 10900 10910 10920 10930 10940 10950 10960 10970 10980 10990 11000 11010 11020 11030 11040 11050 11060 11070 11080 11090 11100 11110 11120 11130 11140 11150 11160 11170 11180 11190 11200 11210 11220 11230 11240 11250 11260 11270 11280 11290 11300 11310 11320 11330 11340 11350 11360 11370 11380 11390 11400 11410 11420 11430 11440 11450 11460 11470 11480 11490 11500 11510 11520 11530 11540 11550 11560 11570 11580 11590 11600 11610 11620 11630 11640 11650 11660 11670 11680 11690 11700 11710 11720 11730 11740 11750 11760 11770 11780 11790 11800 11810 11820 11830 11840 11850 11860 11870 11880 11890 11900 11910 11920 11930 11940 11950 11960 11970 11980 11990 12000 12010 12020 12030 12040 12050 12060 12070 12080 12090 12100 12110 12120 12130 12140 12150 12160 12170 12180 12190 12200 12210 12220 12230 12240 12250 12260 12270 12280 12290 12300 12310 12320 12330 12340 12350 12360 12370 12380 12390 12400 12410 12420 12430 12440 12450 12460 12470 12480 12490 12500 12510 12520 12530 12540 12550 12560 12570 12580 12590 12600 12610 12620 12630 12640 12650 12660 12670 12680 12690 12700 12710 12720 12730 12740 12750 12760 12770 12780 12790 12800 12810 12820 12830 12840 12850 12860 12870 12880 12890 12900 12910 12920 12930 12940 12950 12960 12970 12980 12990 13000 13010 13020 13030 13040 13050 13060 13070 13080 13090 13100 13110 13120 13130 13140 13150 13160 13170 13180 13190 13200 13210 13220 13230 13240 13250 13260 13270 13280 13290 13300 13310 13320 13330 13340 13350 13360 13370 13380 13390 13400 13410 13420 13430 13440 13450 13460 13470 13480 13490 13500 13510 13520 13530 13540 13550 13560 13570 13580 13590 13600 13610 13620 13630 13640 13650 13660 13670 13680 13690 13700 13710 13720 13730 13740 13750 13760 13770 13780 13790 13800 13810 13820 13830 13840 13850 13860 13870 13880 13890 13900 13910 13920 13930 13940 13950 13960 13970 13980 13990 14000 14010 14020 14030 14040 14050 14060 14070 14080 14090 14100 14110 14120 14130 14140 14150 14160 14170 14180 14190 14200 14210 14220 14230 14240 14250 14260 14270 14280 14290 14300 14310 14320 14330 14340 14350 14360 14370 14380 14390 14400 14410 14420 14430 14440 14450 14460 14470 14480 14490 14500 14510 14520 14530 14540 14550 14560 14570 14580 14590 14600 14610 14620 14630 14640 14650 14660 14670 14680 14690 14700 14710 14720 14730 14740 14750 14760 14770 14780 14790 14800 14810 14820 14830 14840 14850 14860 14870 14880 14890 14900 14910 14920 14930 14940 14950 14960 14970 14980 14990 15000 15010 15020 15030 15040 15050 15060 15070 15080 15090 15100 15110 15120 15130 15140 15150 15160 15170 15180 15190 15200 15210 15220 15230 15240 15250 15260 15270 15280 15290 15300 15310 15320 15330 15340 15350 15360 15370 15380 15390 15400 15410 15420 15430 15440 15450 15460 15470 15480 15490 15500 "
     ]
    },
    {
     "name": "stdout",
     "output_type": "stream",
     "text": [
      "15510 15520 15530 15540 15550 15560 15570 15580 15590 15600 15610 15620 15630 15640 15650 15660 15670 15680 15690 15700 15710 15720 15730 15740 15750 15760 15770 15780 15790 15800 15810 15820 15830 15840 15850 15860 15870 15880 15890 15900 15910 15920 15930 15940 15950 15960 15970 15980 15990 16000 16010 16020 16030 16040 16050 16060 16070 16080 16090 16100 16110 16120 16130 16140 16150 16160 16170 16180 16190 16200 16210 16220 16230 16240 16250 16260 16270 16280 16290 16300 16310 16320 16330 16340 16350 16360 16370 16380 16390 16400 16410 16420 16430 16440 16450 16460 16470 16480 16490 16500 16510 16520 16530 16540 16550 16560 16570 16580 16590 16600 16610 16620 16630 16640 16650 16660 16670 16680 16690 16700 16710 16720 16730 16740 16750 16760 16770 16780 16790 16800 16810 16820 16830 16840 16850 16860 16870 16880 16890 16900 16910 16920 16930 16940 16950 16960 16970 16980 16990 17000 17010 17020 17030 17040 17050 17060 17070 17080 17090 17100 17110 17120 17130 17140 17150 17160 17170 17180 17190 17200 17210 17220 17230 17240 17250 17260 17270 17280 17290 17300 17310 17320 17330 17340 17350 17360 17370 17380 17390 17400 17410 17420 17430 17440 17450 17460 17470 17480 17490 17500 17510 17520 17530 17540 17550 17560 17570 17580 17590 17600 17610 17620 17630 17640 17650 17660 17670 17680 17690 17700 17710 17720 17730 17740 17750 17760 17770 17780 17790 17800 17810 17820 17830 17840 17850 17860 17870 17880 17890 17900 17910 17920 17930 17940 17950 17960 17970 17980 17990 18000 18010 18020 18030 18040 18050 18060 18070 18080 18090 18100 18110 18120 18130 18140 18150 18160 18170 18180 18190 18200 18210 18220 18230 18240 18250 18260 18270 18280 18290 18300 18310 18320 18330 18340 18350 18360 18370 18380 18390 18400 18410 18420 18430 18440 18450 18460 18470 18480 18490 18500 18510 18520 18530 18540 18550 18560 18570 18580 18590 18600 18610 18620 18630 18640 18650 18660 18670 18680 18690 18700 18710 18720 18730 18740 18750 18760 18770 18780 18790 18800 18810 18820 18830 18840 18850 18860 18870 18880 18890 18900 18910 18920 18930 18940 18950 18960 18970 18980 18990 19000 19010 19020 19030 19040 19050 19060 19070 19080 19090 19100 19110 19120 19130 19140 19150 19160 19170 19180 19190 19200 19210 19220 19230 19240 19250 19260 19270 19280 19290 19300 19310 19320 19330 19340 19350 19360 19370 19380 19390 19400 19410 19420 19430 19440 19450 19460 19470 19480 19490 19500 19510 19520 19530 19540 19550 19560 19570 19580 19590 19600 19610 19620 19630 19640 19650 19660 19670 19680 19690 19700 19710 19720 19730 19740 19750 19760 19770 19780 19790 19800 19810 19820 19830 19840 19850 19860 19870 19880 19890 19900 19910 19920 19930 19940 19950 19960 19970 19980 19990 20000 20010 20020 20030 20040 20050 20060 20070 20080 20090 20100 20110 20120 20130 20140 20150 20160 20170 20180 20190 20200 20210 20220 20230 20240 20250 20260 20270 20280 20290 20300 20310 20320 20330 20340 20350 20360 20370 20380 20390 20400 20410 20420 20430 20440 20450 20460 20470 20480 20490 20500 20510 20520 20530 20540 20550 20560 20570 20580 20590 20600 20610 20620 20630 20640 20650 20660 20670 20680 20690 20700 20710 20720 20730 20740 20750 20760 20770 20780 20790 20800 20810 20820 20830 20840 20850 20860 20870 20880 20890 20900 20910 20920 20930 20940 20950 20960 20970 20980 20990 21000 21010 21020 21030 21040 21050 21060 21070 21080 21090 21100 21110 21120 21130 21140 21150 21160 21170 21180 21190 21200 21210 21220 21230 21240 21250 21260 21270 21280 21290 21300 21310 21320 21330 21340 21350 21360 21370 21380 21390 21400 21410 21420 21430 21440 21450 21460 21470 21480 21490 21500 21510 21520 21530 21540 21550 21560 21570 21580 21590 21600 21610 21620 21630 21640 21650 21660 21670 21680 21690 21700 21710 21720 21730 21740 21750 21760 21770 21780 21790 21800 21810 21820 21830 21840 21850 21860 21870 21880 21890 21900 21910 21920 21930 21940 21950 21960 21970 21980 21990 22000 22010 22020 22030 22040 22050 22060 22070 22080 22090 22100 22110 22120 22130 22140 22150 22160 22170 22180 22190 22200 22210 22220 22230 22240 22250 22260 22270 22280 22290 22300 22310 22320 22330 22340 22350 22360 22370 22380 22390 22400 22410 22420 22430 22440 22450 22460 22470 22480 22490 22500 22510 22520 22530 22540 22550 22560 22570 22580 22590 22600 22610 22620 22630 22640 22650 22660 22670 22680 22690 22700 22710 22720 22730 22740 22750 22760 22770 22780 22790 22800 22810 22820 22830 22840 22850 22860 22870 22880 22890 22900 22910 22920 22930 22940 22950 22960 22970 22980 22990 23000 23010 23020 23030 23040 23050 23060 23070 23080 23090 23100 23110 23120 23130 23140 23150 23160 23170 23180 23190 23200 23210 23220 23230 23240 23250 23260 23270 23280 23290 23300 23310 23320 23330 23340 23350 23360 23370 23380 23390 23400 23410 23420 23430 23440 23450 23460 23470 23480 23490 23500 23510 23520 23530 23540 23550 23560 23570 23580 23590 23600 23610 23620 23630 23640 23650 23660 23670 23680 23690 23700 23710 23720 23730 23740 23750 23760 23770 23780 23790 23800 23810 23820 23830 23840 23850 23860 23870 23880 23890 23900 23910 23920 23930 23940 23950 23960 23970 23980 23990 24000 24010 24020 24030 24040 24050 24060 24070 24080 24090 24100 24110 24120 24130 24140 24150 24160 24170 24180 24190 24200 24210 24220 24230 24240 24250 24260 24270 24280 24290 24300 24310 24320 24330 24340 24350 24360 24370 24380 24390 24400 24410 24420 24430 24440 24450 24460 24470 24480 24490 24500 24510 24520 24530 24540 24550 24560 24570 24580 24590 24600 24610 24620 24630 24640 24650 24660 24670 24680 24690 24700 24710 24720 24730 24740 24750 24760 24770 24780 24790 24800 24810 24820 24830 24840 24850 24860 24870 24880 24890 24900 24910 24920 24930 24940 24950 24960 24970 24980 24990 25000 25010 25020 25030 25040 25050 25060 25070 25080 25090 25100 25110 25120 25130 25140 25150 25160 25170 25180 25190 25200 25210 25220 25230 25240 25250 25260 25270 25280 25290 25300 25310 25320 25330 25340 25350 25360 25370 25380 25390 25400 25410 25420 25430 25440 25450 25460 25470 25480 25490 25500 25510 25520 25530 25540 25550 25560 25570 25580 25590 25600 25610 25620 25630 25640 25650 25660 25670 25680 25690 25700 25710 25720 25730 25740 25750 25760 25770 25780 25790 25800 25810 25820 25830 25840 25850 25860 25870 25880 25890 25900 25910 25920 25930 25940 25950 25960 25970 25980 25990 26000 26010 26020 26030 26040 26050 26060 26070 26080 26090 26100 26110 26120 26130 26140 26150 26160 26170 26180 26190 26200 26210 26220 26230 26240 26250 26260 26270 26280 26290 26300 26310 26320 26330 26340 26350 26360 26370 26380 26390 26400 26410 26420 26430 26440 26450 26460 26470 26480 26490 26500 26510 26520 26530 26540 26550 26560 26570 26580 26590 26600 26610 26620 26630 26640 26650 26660 26670 26680 26690 26700 26710 26720 26730 26740 26750 26760 26770 26780 26790 26800 26810 26820 26830 26840 26850 26860 26870 26880 26890 26900 26910 26920 26930 26940 26950 26960 26970 26980 26990 27000 27010 27020 27030 27040 27050 27060 27070 27080 27090 27100 27110 27120 27130 27140 27150 27160 27170 27180 27190 27200 27210 27220 27230 27240 27250 27260 27270 27280 27290 27300 27310 27320 27330 27340 27350 27360 27370 27380 27390 27400 27410 27420 27430 27440 27450 27460 27470 27480 0 10 20 30 40 50 60 70 80 90 100 110 120 130 140 150 160 170 180 190 200 210 220 230 240 250 260 270 280 290 300 310 320 330 340 350 360 370 380 390 400 410 420 430 440 450 460 470 480 490 500 510 520 530 540 550 560 570 580 590 600 610 620 630 640 650 660 670 680 690 700 710 720 730 740 750 760 770 780 790 800 810 820 830 840 850 860 870 880 890 900 910 920 930 940 950 960 970 980 990 1000 1010 1020 1030 1040 1050 1060 1070 1080 1090 1100 1110 1120 1130 1140 1150 1160 1170 1180 1190 1200 1210 1220 1230 1240 1250 1260 1270 1280 1290 1300 1310 1320 1330 1340 1350 1360 1370 1380 1390 1400 1410 1420 1430 1440 1450 1460 1470 1480 1490 1500 1510 1520 1530 1540 1550 1560 1570 1580 1590 1600 1610 1620 1630 1640 1650 1660 1670 1680 1690 1700 1710 1720 1730 1740 1750 1760 1770 1780 1790 1800 1810 1820 1830 1840 1850 1860 1870 1880 1890 1900 1910 1920 1930 1940 1950 1960 1970 1980 1990 2000 2010 2020 2030 2040 2050 2060 2070 2080 2090 2100 2110 2120 "
     ]
    }
   ],
   "source": [
    "train_l = []\n",
    "\n",
    "for i in range(train.shape[0]):\n",
    "\n",
    "    if i%10==0:\n",
    "      print(i, end=\" \")\n",
    "    sms = train.iloc[i, 0]\n",
    "\n",
    "    sms = re.sub('[^A-Za-z]', ' ', sms)\n",
    "\n",
    "    sms = sms.lower()\n",
    "\n",
    "    tokenized_sms = wt(sms)\n",
    " \n",
    "    sms_processed = []\n",
    "    for word in tokenized_sms:\n",
    "        if word not in set(stopwords.words('english')):\n",
    "            sms_processed.append(stemmer.stem(spell(word)))\n",
    "    sms_text = \" \".join(sms_processed)\n",
    "    train_l.append(sms_text)\n",
    "\n",
    "test_l = []\n",
    "\n",
    "for i in range(test.shape[0]):\n",
    "\n",
    "    if i%10==0:\n",
    "      print(i, end=\" \")\n",
    "    sms = test.iloc[i, 0]\n",
    "\n",
    "    sms = re.sub('[^A-Za-z]', ' ', sms)\n",
    "\n",
    "    sms = sms.lower()\n",
    "\n",
    "    tokenized_sms = wt(sms)\n",
    " \n",
    "    sms_processed = []\n",
    "    for word in tokenized_sms:\n",
    "        if word not in set(stopwords.words('english')):\n",
    "            sms_processed.append(stemmer.stem(spell(word)))\n",
    "    sms_text = \" \".join(sms_processed)\n",
    "    test_l.append(sms_text)"
   ]
  },
  {
   "cell_type": "code",
   "execution_count": 11,
   "id": "c5484e64",
   "metadata": {},
   "outputs": [
    {
     "data": {
      "text/plain": [
       "1000"
      ]
     },
     "execution_count": 11,
     "metadata": {},
     "output_type": "execute_result"
    }
   ],
   "source": [
    "len(data_l)"
   ]
  },
  {
   "cell_type": "code",
   "execution_count": 12,
   "id": "083b041a",
   "metadata": {},
   "outputs": [],
   "source": [
    "from sklearn.feature_extraction.text import CountVectorizer\n",
    "matrix = CountVectorizer(max_features=1000)\n",
    "X = matrix.fit_transform(data_l).toarray()\n",
    "y = data.iloc[:, 0]"
   ]
  },
  {
   "cell_type": "code",
   "execution_count": 13,
   "id": "e1c78b8c",
   "metadata": {},
   "outputs": [],
   "source": [
    "from sklearn.model_selection import train_test_split\n",
    "\n",
    "X_train, X_test, y_train, y_test = train_test_split(X, y, test_size=0.2, random_state=442)"
   ]
  },
  {
   "cell_type": "code",
   "execution_count": 14,
   "id": "dc2fac7a",
   "metadata": {},
   "outputs": [
    {
     "data": {
      "text/plain": [
       "GaussianNB()"
      ]
     },
     "execution_count": 14,
     "metadata": {},
     "output_type": "execute_result"
    }
   ],
   "source": [
    "from sklearn.naive_bayes import GaussianNB\n",
    "classifier = GaussianNB()\n",
    "classifier.fit(X_train, y_train)"
   ]
  },
  {
   "cell_type": "code",
   "execution_count": 15,
   "id": "5630e8f2",
   "metadata": {},
   "outputs": [
    {
     "name": "stdout",
     "output_type": "stream",
     "text": [
      "[[66 44]\n",
      " [19 71]]\n",
      "              precision    recall  f1-score   support\n",
      "\n",
      "           1       0.78      0.60      0.68       110\n",
      "           2       0.62      0.79      0.69        90\n",
      "\n",
      "    accuracy                           0.69       200\n",
      "   macro avg       0.70      0.69      0.68       200\n",
      "weighted avg       0.70      0.69      0.68       200\n",
      "\n",
      "0.685\n"
     ]
    }
   ],
   "source": [
    "y_pred = classifier.predict(X_test)\n",
    "\n",
    "from sklearn.metrics import confusion_matrix, classification_report, accuracy_score\n",
    "cm = confusion_matrix(y_test, y_pred)\n",
    "cr = classification_report(y_test, y_pred)\n",
    "accuracy = accuracy_score(y_test, y_pred)\n",
    "print(cm)\n",
    "print(cr)\n",
    "print(accuracy)"
   ]
  },
  {
   "cell_type": "code",
   "execution_count": 16,
   "id": "a30fd141",
   "metadata": {},
   "outputs": [
    {
     "data": {
      "text/plain": [
       "(27483, 2125)"
      ]
     },
     "execution_count": 16,
     "metadata": {},
     "output_type": "execute_result"
    }
   ],
   "source": [
    "len(train_l), len(test_l)"
   ]
  },
  {
   "cell_type": "code",
   "execution_count": 17,
   "id": "b2855df9",
   "metadata": {},
   "outputs": [],
   "source": [
    "from sklearn.feature_extraction.text import CountVectorizer\n",
    "matrix_train = CountVectorizer(max_features=1000)\n",
    "X_train = matrix_train.fit_transform(train_l).toarray()\n",
    "y_train = train.iloc[:, 1]\n",
    "\n",
    "matrix_test = CountVectorizer(max_features=1000)\n",
    "X_test = matrix_test.fit_transform(test_l).toarray()\n",
    "y_test = test.iloc[:, 1]"
   ]
  },
  {
   "cell_type": "code",
   "execution_count": 18,
   "id": "1d2bf966",
   "metadata": {},
   "outputs": [
    {
     "data": {
      "text/plain": [
       "((27483, 1000), (27483,), (2125, 1000), (2125,))"
      ]
     },
     "execution_count": 18,
     "metadata": {},
     "output_type": "execute_result"
    }
   ],
   "source": [
    "X_train.shape, y_train.shape, X_test.shape, y_test.shape"
   ]
  },
  {
   "cell_type": "code",
   "execution_count": 19,
   "id": "683d8f2b",
   "metadata": {},
   "outputs": [],
   "source": [
    "from sklearn.naive_bayes import GaussianNB\n",
    "classifier = GaussianNB()\n",
    "classifier.fit(X_train, y_train)\n",
    "\n",
    "y_pred = classifier.predict(X_test)\n",
    "\n",
    "from sklearn.metrics import confusion_matrix, classification_report, accuracy_score\n",
    "cm = confusion_matrix(y_test, y_pred)\n",
    "cr = classification_report(y_test, y_pred)\n",
    "accuracy = accuracy_score(y_test, y_pred)"
   ]
  },
  {
   "cell_type": "code",
   "execution_count": 20,
   "id": "3ab3b03f",
   "metadata": {},
   "outputs": [
    {
     "name": "stdout",
     "output_type": "stream",
     "text": [
      "[[109  36  33  18  74]\n",
      " [237  75  74  52 165]\n",
      " [141  40  37  49 109]\n",
      " [196  79  55  59 102]\n",
      " [136  50  50  48 101]]\n"
     ]
    }
   ],
   "source": [
    "print(cm)"
   ]
  },
  {
   "cell_type": "code",
   "execution_count": 21,
   "id": "7e8951e8",
   "metadata": {},
   "outputs": [
    {
     "name": "stdout",
     "output_type": "stream",
     "text": [
      "0.17929411764705883\n"
     ]
    }
   ],
   "source": [
    "print(accuracy)"
   ]
  },
  {
   "cell_type": "code",
   "execution_count": 22,
   "id": "2560c68a",
   "metadata": {},
   "outputs": [
    {
     "name": "stdout",
     "output_type": "stream",
     "text": [
      "              precision    recall  f1-score   support\n",
      "\n",
      "           0       0.13      0.40      0.20       270\n",
      "           1       0.27      0.12      0.17       603\n",
      "           2       0.15      0.10      0.12       376\n",
      "           3       0.26      0.12      0.16       491\n",
      "           4       0.18      0.26      0.22       385\n",
      "\n",
      "    accuracy                           0.18      2125\n",
      "   macro avg       0.20      0.20      0.17      2125\n",
      "weighted avg       0.21      0.18      0.17      2125\n",
      "\n"
     ]
    }
   ],
   "source": [
    "print(cr)"
   ]
  },
  {
   "cell_type": "code",
   "execution_count": 35,
   "id": "497f414c",
   "metadata": {},
   "outputs": [
    {
     "name": "stdout",
     "output_type": "stream",
     "text": [
      "Model: \"sequential_1\"\n",
      "_________________________________________________________________\n",
      " Layer (type)                Output Shape              Param #   \n",
      "=================================================================\n",
      " dense_5 (Dense)             (None, 1000)              1001000   \n",
      "                                                                 \n",
      " dense_6 (Dense)             (None, 500)               500500    \n",
      "                                                                 \n",
      " dense_7 (Dense)             (None, 250)               125250    \n",
      "                                                                 \n",
      " dense_8 (Dense)             (None, 250)               62750     \n",
      "                                                                 \n",
      " dense_9 (Dense)             (None, 5)                 1255      \n",
      "                                                                 \n",
      "=================================================================\n",
      "Total params: 1,690,755\n",
      "Trainable params: 1,690,755\n",
      "Non-trainable params: 0\n",
      "_________________________________________________________________\n"
     ]
    }
   ],
   "source": [
    "import tensorflow as tf\n",
    "from tensorflow import keras\n",
    "from tensorflow.keras import layers\n",
    "\n",
    "model = keras.models.Sequential()\n",
    "model.add(layers.Dense(1000, activation='relu', input_shape=[1000]))\n",
    "model.add(layers.Dense(500, activation='relu'))\n",
    "model.add(layers.Dense(250, activation='relu'))\n",
    "model.add(layers.Dense(250, activation='relu'))\n",
    "model.add(layers.Dense(5, activation='softmax'))\n",
    "model.summary()"
   ]
  },
  {
   "cell_type": "code",
   "execution_count": 36,
   "id": "03f117e5",
   "metadata": {},
   "outputs": [
    {
     "name": "stdout",
     "output_type": "stream",
     "text": [
      "Epoch 1/50\n",
      "859/859 [==============================] - 4s 4ms/step - loss: 1.3568 - accuracy: 0.4117 - val_loss: 2.1369 - val_accuracy: 0.2311\n",
      "Epoch 2/50\n",
      "859/859 [==============================] - 3s 3ms/step - loss: 0.7895 - accuracy: 0.6937 - val_loss: 3.3648 - val_accuracy: 0.2198\n",
      "Epoch 3/50\n",
      "859/859 [==============================] - 3s 4ms/step - loss: 0.2713 - accuracy: 0.8999 - val_loss: 5.0747 - val_accuracy: 0.2489\n",
      "Epoch 4/50\n",
      "859/859 [==============================] - 3s 4ms/step - loss: 0.1434 - accuracy: 0.9470 - val_loss: 6.1922 - val_accuracy: 0.2405\n",
      "Epoch 5/50\n",
      "859/859 [==============================] - 3s 4ms/step - loss: 0.1164 - accuracy: 0.9574 - val_loss: 6.6925 - val_accuracy: 0.2358\n",
      "Epoch 6/50\n",
      "859/859 [==============================] - 3s 4ms/step - loss: 0.1032 - accuracy: 0.9604 - val_loss: 7.3955 - val_accuracy: 0.2358\n",
      "Epoch 7/50\n",
      "859/859 [==============================] - 3s 4ms/step - loss: 0.0972 - accuracy: 0.9622 - val_loss: 7.4584 - val_accuracy: 0.2296\n",
      "Epoch 8/50\n",
      "859/859 [==============================] - 3s 3ms/step - loss: 0.0965 - accuracy: 0.9615 - val_loss: 8.3525 - val_accuracy: 0.2320\n",
      "Epoch 9/50\n",
      "859/859 [==============================] - 3s 4ms/step - loss: 0.0924 - accuracy: 0.9619 - val_loss: 8.1989 - val_accuracy: 0.2240\n",
      "Epoch 10/50\n",
      "859/859 [==============================] - 3s 4ms/step - loss: 0.0875 - accuracy: 0.9631 - val_loss: 9.3864 - val_accuracy: 0.2400\n",
      "Epoch 11/50\n",
      "859/859 [==============================] - 3s 4ms/step - loss: 0.0785 - accuracy: 0.9655 - val_loss: 7.6509 - val_accuracy: 0.2386\n",
      "Epoch 12/50\n",
      "859/859 [==============================] - 3s 4ms/step - loss: 0.0764 - accuracy: 0.9663 - val_loss: 10.4427 - val_accuracy: 0.2452\n",
      "Epoch 13/50\n",
      "859/859 [==============================] - 3s 4ms/step - loss: 0.0755 - accuracy: 0.9663 - val_loss: 10.1080 - val_accuracy: 0.2245\n",
      "Epoch 14/50\n",
      "859/859 [==============================] - 3s 4ms/step - loss: 0.0765 - accuracy: 0.9653 - val_loss: 8.9226 - val_accuracy: 0.2264\n",
      "Epoch 15/50\n",
      "859/859 [==============================] - 3s 4ms/step - loss: 0.0761 - accuracy: 0.9650 - val_loss: 9.2358 - val_accuracy: 0.2202\n",
      "Epoch 16/50\n",
      "859/859 [==============================] - 3s 4ms/step - loss: 0.0722 - accuracy: 0.9661 - val_loss: 9.4767 - val_accuracy: 0.2438\n",
      "Epoch 17/50\n",
      "859/859 [==============================] - 3s 4ms/step - loss: 0.0661 - accuracy: 0.9685 - val_loss: 11.2702 - val_accuracy: 0.2395\n",
      "Epoch 18/50\n",
      "859/859 [==============================] - 3s 4ms/step - loss: 0.0652 - accuracy: 0.9686 - val_loss: 11.6359 - val_accuracy: 0.2475\n",
      "Epoch 19/50\n",
      "859/859 [==============================] - 3s 4ms/step - loss: 0.0718 - accuracy: 0.9674 - val_loss: 11.3202 - val_accuracy: 0.2292\n",
      "Epoch 20/50\n",
      "859/859 [==============================] - 3s 4ms/step - loss: 0.0726 - accuracy: 0.9680 - val_loss: 11.4595 - val_accuracy: 0.2424\n",
      "Epoch 21/50\n",
      "859/859 [==============================] - 3s 4ms/step - loss: 0.0701 - accuracy: 0.9683 - val_loss: 12.5188 - val_accuracy: 0.2405\n"
     ]
    }
   ],
   "source": [
    "early_stopping = keras.callbacks.EarlyStopping(monitor='loss', min_delta=0, patience=3, verbose=0, mode='auto')\n",
    "\n",
    "\n",
    "model.compile(loss=\"sparse_categorical_crossentropy\", optimizer=\"adam\", metrics=[\"accuracy\"])\n",
    "history = model.fit(X_train, y_train, epochs=50, callbacks=[early_stopping], validation_data=(X_test, y_test))"
   ]
  },
  {
   "cell_type": "code",
   "execution_count": 38,
   "id": "802032d2",
   "metadata": {},
   "outputs": [
    {
     "data": {
      "image/png": "[encoded data removed]",
      "text/plain": [
       "<Figure size 432x288 with 1 Axes>"
      ]
     },
     "metadata": {
      "needs_background": "light"
     },
     "output_type": "display_data"
    }
   ],
   "source": [
    "plt.plot(history.history['loss'], label=\"loss\")\n",
    "plt.plot(history.history['accuracy'], label=\"accuracy\")\n",
    "plt.legend()\n",
    "plt.show()"
   ]
  },
  {
   "cell_type": "code",
   "execution_count": 39,
   "id": "b19a8b1c",
   "metadata": {},
   "outputs": [
    {
     "data": {
      "image/png": "[encoded data removed]",
      "text/plain": [
       "<Figure size 432x288 with 1 Axes>"
      ]
     },
     "metadata": {
      "needs_background": "light"
     },
     "output_type": "display_data"
    }
   ],
   "source": [
    "plt.plot(history.history['val_loss'], label=\"val_loss\")\n",
    "plt.plot(history.history['val_accuracy'], label=\"val_accuracy\")\n",
    "plt.legend()\n",
    "plt.show()"
   ]
  },
  {
   "cell_type": "code",
   "execution_count": 40,
   "id": "045c8944",
   "metadata": {},
   "outputs": [
    {
     "name": "stdout",
     "output_type": "stream",
     "text": [
      "Epoch 1/50\n",
      "859/859 [==============================] - 4s 4ms/step - loss: 1.3534 - accuracy: 0.4170 - val_loss: 2.0989 - val_accuracy: 0.2480\n",
      "Epoch 2/50\n",
      "859/859 [==============================] - 3s 3ms/step - loss: 0.7688 - accuracy: 0.7069 - val_loss: 3.3034 - val_accuracy: 0.2216\n",
      "Epoch 3/50\n",
      "859/859 [==============================] - 3s 4ms/step - loss: 0.2603 - accuracy: 0.9051 - val_loss: 5.0430 - val_accuracy: 0.2489\n",
      "Epoch 4/50\n",
      "859/859 [==============================] - 3s 4ms/step - loss: 0.1507 - accuracy: 0.9442 - val_loss: 6.2249 - val_accuracy: 0.2311\n"
     ]
    }
   ],
   "source": [
    "model2 = keras.models.Sequential()\n",
    "model2.add(layers.Dense(1000, activation='relu', input_shape=[1000]))\n",
    "model2.add(layers.Dense(500, activation='relu'))\n",
    "model2.add(layers.Dense(250, activation='relu'))\n",
    "model2.add(layers.Dense(250, activation='relu'))\n",
    "model2.add(layers.Dense(5, activation='softmax'))\n",
    "\n",
    "early_stopping = keras.callbacks.EarlyStopping(monitor='val_loss', min_delta=0, patience=3, verbose=0, mode='auto')\n",
    "\n",
    "model2.compile(loss=\"sparse_categorical_crossentropy\", optimizer=\"adam\", metrics=[\"accuracy\"])\n",
    "history = model2.fit(X_train, y_train, epochs=50, callbacks=[early_stopping], validation_data=(X_test, y_test))"
   ]
  },
  {
   "cell_type": "code",
   "execution_count": 41,
   "id": "001798a7",
   "metadata": {},
   "outputs": [
    {
     "data": {
      "image/png": "[encoded data removed]",
      "text/plain": [
       "<Figure size 432x288 with 1 Axes>"
      ]
     },
     "metadata": {
      "needs_background": "light"
     },
     "output_type": "display_data"
    }
   ],
   "source": [
    "plt.plot(history.history['loss'], label=\"loss\")\n",
    "plt.plot(history.history['accuracy'], label=\"accuracy\")\n",
    "plt.legend()\n",
    "plt.show()"
   ]
  },
  {
   "cell_type": "code",
   "execution_count": 42,
   "id": "60755d3c",
   "metadata": {},
   "outputs": [
    {
     "data": {
      "image/png": "[encoded data removed]",
      "text/plain": [
       "<Figure size 432x288 with 1 Axes>"
      ]
     },
     "metadata": {
      "needs_background": "light"
     },
     "output_type": "display_data"
    }
   ],
   "source": [
    "plt.plot(history.history['val_loss'], label=\"val_loss\")\n",
    "plt.plot(history.history['val_accuracy'], label=\"val_accuracy\")\n",
    "plt.legend()\n",
    "plt.show()"
   ]
  },
  {
   "cell_type": "markdown",
   "id": "9e6a28d7",
   "metadata": {},
   "source": [
    "### Reshuffling train and test datasets"
   ]
  },
  {
   "cell_type": "code",
   "execution_count": 43,
   "id": "34ffdbd0",
   "metadata": {},
   "outputs": [
    {
     "data": {
      "text/plain": [
       "array([[0, 0, 0, ..., 0, 0, 0],\n",
       "       [0, 0, 0, ..., 0, 0, 0],\n",
       "       [0, 0, 0, ..., 0, 0, 0],\n",
       "       ...,\n",
       "       [0, 0, 0, ..., 0, 0, 0],\n",
       "       [0, 0, 0, ..., 0, 0, 0],\n",
       "       [0, 0, 0, ..., 0, 0, 0]], dtype=int64)"
      ]
     },
     "execution_count": 43,
     "metadata": {},
     "output_type": "execute_result"
    }
   ],
   "source": [
    "X_train"
   ]
  },
  {
   "cell_type": "code",
   "execution_count": 44,
   "id": "6d765e33",
   "metadata": {},
   "outputs": [
    {
     "data": {
      "text/plain": [
       "array([[0, 0, 0, ..., 0, 0, 0],\n",
       "       [0, 0, 0, ..., 0, 0, 0],\n",
       "       [0, 0, 0, ..., 0, 0, 0],\n",
       "       ...,\n",
       "       [0, 0, 0, ..., 0, 0, 0],\n",
       "       [0, 0, 0, ..., 0, 0, 0],\n",
       "       [0, 0, 0, ..., 0, 0, 0]], dtype=int64)"
      ]
     },
     "execution_count": 44,
     "metadata": {},
     "output_type": "execute_result"
    }
   ],
   "source": [
    "X_test"
   ]
  },
  {
   "cell_type": "code",
   "execution_count": 57,
   "id": "874d3b0d",
   "metadata": {},
   "outputs": [
    {
     "data": {
      "text/plain": [
       "(29608, 1000)"
      ]
     },
     "execution_count": 57,
     "metadata": {},
     "output_type": "execute_result"
    }
   ],
   "source": [
    "X = np.concatenate((X_train, X_test), axis=0)\n",
    "X.shape"
   ]
  },
  {
   "cell_type": "code",
   "execution_count": 62,
   "id": "3e2199e2",
   "metadata": {},
   "outputs": [
    {
     "data": {
      "text/plain": [
       "(29608,)"
      ]
     },
     "execution_count": 62,
     "metadata": {},
     "output_type": "execute_result"
    }
   ],
   "source": [
    "y = np.concatenate((y_train, y_test), axis=0)\n",
    "y.shape"
   ]
  },
  {
   "cell_type": "code",
   "execution_count": 63,
   "id": "1b83fca0",
   "metadata": {},
   "outputs": [
    {
     "data": {
      "text/plain": [
       "((22206, 1000), (22206,), (7402, 1000), (7402,))"
      ]
     },
     "execution_count": 63,
     "metadata": {},
     "output_type": "execute_result"
    }
   ],
   "source": [
    "from sklearn.model_selection import train_test_split\n",
    "\n",
    "X_train, X_test, y_train, y_test = train_test_split(X, y, test_size=0.25)\n",
    "X_train.shape, y_train.shape, X_test.shape, y_test.shape"
   ]
  },
  {
   "cell_type": "code",
   "execution_count": 68,
   "id": "dfa40426",
   "metadata": {},
   "outputs": [
    {
     "name": "stdout",
     "output_type": "stream",
     "text": [
      "Epoch 1/50\n",
      "694/694 [==============================] - 3s 4ms/step - loss: 1.4167 - accuracy: 0.3828 - val_loss: 1.3352 - val_accuracy: 0.4372\n",
      "Epoch 2/50\n",
      "694/694 [==============================] - 3s 4ms/step - loss: 1.0098 - accuracy: 0.6019 - val_loss: 1.1197 - val_accuracy: 0.5701\n",
      "Epoch 3/50\n",
      "694/694 [==============================] - 3s 4ms/step - loss: 0.4237 - accuracy: 0.8432 - val_loss: 1.2189 - val_accuracy: 0.6350\n",
      "Epoch 4/50\n",
      "694/694 [==============================] - 3s 4ms/step - loss: 0.1836 - accuracy: 0.9330 - val_loss: 1.3595 - val_accuracy: 0.6548\n",
      "Epoch 5/50\n",
      "694/694 [==============================] - 3s 4ms/step - loss: 0.1223 - accuracy: 0.9556 - val_loss: 1.7091 - val_accuracy: 0.6608\n"
     ]
    }
   ],
   "source": [
    "model3 = keras.models.Sequential()\n",
    "model3.add(layers.Dense(1000, activation='relu', input_shape=[1000]))\n",
    "model3.add(layers.Dense(500, activation='relu'))\n",
    "model3.add(layers.Dense(250, activation='relu'))\n",
    "model3.add(layers.Dense(250, activation='relu'))\n",
    "model3.add(layers.Dense(5, activation='softmax'))\n",
    "\n",
    "early_stopping = keras.callbacks.EarlyStopping(monitor='val_loss', min_delta=0, patience=3, verbose=0, mode='auto')\n",
    "\n",
    "model3.compile(loss=\"sparse_categorical_crossentropy\", optimizer=\"adam\", metrics=[\"accuracy\"])\n",
    "history = model3.fit(X_train, y_train, epochs=50, callbacks=[early_stopping], validation_data=(X_test, y_test))"
   ]
  },
  {
   "cell_type": "code",
   "execution_count": 69,
   "id": "5e86e1eb",
   "metadata": {},
   "outputs": [
    {
     "data": {
      "image/png": "[encoded data removed]",
      "text/plain": [
       "<Figure size 432x288 with 1 Axes>"
      ]
     },
     "metadata": {
      "needs_background": "light"
     },
     "output_type": "display_data"
    }
   ],
   "source": [
    "plt.plot(history.history['loss'], label=\"loss\")\n",
    "plt.plot(history.history['accuracy'], label=\"accuracy\")\n",
    "plt.legend()\n",
    "plt.show()"
   ]
  },
  {
   "cell_type": "code",
   "execution_count": 70,
   "id": "ed01f202",
   "metadata": {},
   "outputs": [
    {
     "data": {
      "image/png": "[encoded data removed]",
      "text/plain": [
       "<Figure size 432x288 with 1 Axes>"
      ]
     },
     "metadata": {
      "needs_background": "light"
     },
     "output_type": "display_data"
    }
   ],
   "source": [
    "plt.plot(history.history['val_loss'], label=\"val_loss\")\n",
    "plt.plot(history.history['val_accuracy'], label=\"val_accuracy\")\n",
    "plt.legend()\n",
    "plt.show()"
   ]
  },
  {
   "cell_type": "code",
   "execution_count": 76,
   "id": "a6692b68",
   "metadata": {},
   "outputs": [
    {
     "name": "stdout",
     "output_type": "stream",
     "text": [
      "Epoch 1/50\n",
      "694/694 [==============================] - 4s 5ms/step - loss: 1.4830 - accuracy: 0.3420 - val_loss: 1.4074 - val_accuracy: 0.3814\n",
      "Epoch 2/50\n",
      "694/694 [==============================] - 3s 5ms/step - loss: 1.2795 - accuracy: 0.4552 - val_loss: 1.3082 - val_accuracy: 0.4516\n",
      "Epoch 3/50\n",
      "694/694 [==============================] - 3s 4ms/step - loss: 0.9330 - accuracy: 0.6294 - val_loss: 1.1929 - val_accuracy: 0.5393\n",
      "Epoch 4/50\n",
      "694/694 [==============================] - 3s 5ms/step - loss: 0.5937 - accuracy: 0.7833 - val_loss: 1.2231 - val_accuracy: 0.5984\n",
      "Epoch 5/50\n",
      "694/694 [==============================] - 3s 5ms/step - loss: 0.3682 - accuracy: 0.8759 - val_loss: 1.2034 - val_accuracy: 0.6255\n",
      "Epoch 6/50\n",
      "694/694 [==============================] - 3s 5ms/step - loss: 0.2485 - accuracy: 0.9191 - val_loss: 1.3972 - val_accuracy: 0.6417\n",
      "Epoch 7/50\n",
      "694/694 [==============================] - 3s 4ms/step - loss: 0.1937 - accuracy: 0.9388 - val_loss: 1.4552 - val_accuracy: 0.6469\n",
      "Epoch 8/50\n",
      "694/694 [==============================] - 3s 4ms/step - loss: 0.1551 - accuracy: 0.9495 - val_loss: 1.6488 - val_accuracy: 0.6381\n"
     ]
    }
   ],
   "source": [
    "model4 = keras.models.Sequential()\n",
    "model4.add(layers.Dense(1000, activation='relu', input_shape=[1000]))\n",
    "model4.add(layers.Dense(500, activation='relu'))\n",
    "model4.add(layers.Dense(250, activation='relu'))\n",
    "model4.add(layers.Dense(250, activation='relu'))\n",
    "model4.add(layers.Dense(100, activation='relu'))\n",
    "model4.add(layers.Dense(100, activation='relu'))\n",
    "model4.add(layers.Dense(5, activation='softmax'))\n",
    "\n",
    "early_stopping = keras.callbacks.EarlyStopping(monitor='val_loss', min_delta=0, patience=5, verbose=0, mode='auto')\n",
    "\n",
    "model4.compile(loss=\"sparse_categorical_crossentropy\", optimizer=keras.optimizers.Adam(lr=0.004), metrics=[\"accuracy\"])\n",
    "history = model4.fit(X_train, y_train, epochs=50, callbacks=[early_stopping], validation_data=(X_test, y_test))"
   ]
  },
  {
   "cell_type": "code",
   "execution_count": 78,
   "id": "dfeda40c",
   "metadata": {
    "scrolled": true
   },
   "outputs": [
    {
     "name": "stdout",
     "output_type": "stream",
     "text": [
      "Epoch 1/50\n",
      "694/694 [==============================] - 3s 4ms/step - loss: 1.5763 - accuracy: 0.2663 - val_loss: 1.5720 - val_accuracy: 0.2630\n",
      "Epoch 2/50\n",
      "694/694 [==============================] - 3s 4ms/step - loss: 1.5677 - accuracy: 0.2736 - val_loss: 1.5717 - val_accuracy: 0.2630\n",
      "Epoch 3/50\n",
      "694/694 [==============================] - 3s 5ms/step - loss: 1.5667 - accuracy: 0.2727 - val_loss: 1.5705 - val_accuracy: 0.2917\n",
      "Epoch 4/50\n",
      "694/694 [==============================] - 3s 4ms/step - loss: 1.5650 - accuracy: 0.2888 - val_loss: 1.5693 - val_accuracy: 0.2782\n",
      "Epoch 5/50\n",
      "694/694 [==============================] - 3s 4ms/step - loss: 1.5625 - accuracy: 0.2929 - val_loss: 1.5661 - val_accuracy: 0.2996\n",
      "Epoch 6/50\n",
      "694/694 [==============================] - 3s 4ms/step - loss: 1.5579 - accuracy: 0.3048 - val_loss: 1.5609 - val_accuracy: 0.3092\n",
      "Epoch 7/50\n",
      "694/694 [==============================] - 3s 4ms/step - loss: 1.5479 - accuracy: 0.3180 - val_loss: 1.5471 - val_accuracy: 0.3188\n",
      "Epoch 8/50\n",
      "694/694 [==============================] - 3s 4ms/step - loss: 1.5194 - accuracy: 0.3420 - val_loss: 1.5079 - val_accuracy: 0.3388\n",
      "Epoch 9/50\n",
      "694/694 [==============================] - 3s 4ms/step - loss: 1.4561 - accuracy: 0.3725 - val_loss: 1.4497 - val_accuracy: 0.3710\n",
      "Epoch 10/50\n",
      "694/694 [==============================] - 3s 4ms/step - loss: 1.3921 - accuracy: 0.4006 - val_loss: 1.4214 - val_accuracy: 0.3808\n",
      "Epoch 11/50\n",
      "694/694 [==============================] - 3s 4ms/step - loss: 1.3361 - accuracy: 0.4229 - val_loss: 1.3968 - val_accuracy: 0.3938\n",
      "Epoch 12/50\n",
      "694/694 [==============================] - 3s 4ms/step - loss: 1.2821 - accuracy: 0.4480 - val_loss: 1.3749 - val_accuracy: 0.4033\n",
      "Epoch 13/50\n",
      "694/694 [==============================] - 3s 4ms/step - loss: 1.2198 - accuracy: 0.4771 - val_loss: 1.3729 - val_accuracy: 0.4080\n",
      "Epoch 14/50\n",
      "694/694 [==============================] - 3s 4ms/step - loss: 1.1543 - accuracy: 0.5075 - val_loss: 1.3423 - val_accuracy: 0.4268\n",
      "Epoch 15/50\n",
      "694/694 [==============================] - 3s 4ms/step - loss: 1.0653 - accuracy: 0.5466 - val_loss: 1.3420 - val_accuracy: 0.4347\n",
      "Epoch 16/50\n",
      "694/694 [==============================] - 3s 4ms/step - loss: 0.9968 - accuracy: 0.5776 - val_loss: 1.5155 - val_accuracy: 0.4114\n",
      "Epoch 17/50\n",
      "694/694 [==============================] - 3s 4ms/step - loss: 0.9044 - accuracy: 0.6151 - val_loss: 1.3313 - val_accuracy: 0.4633\n",
      "Epoch 18/50\n",
      "694/694 [==============================] - 3s 4ms/step - loss: 0.8059 - accuracy: 0.6643 - val_loss: 1.3396 - val_accuracy: 0.4888\n",
      "Epoch 19/50\n",
      "694/694 [==============================] - 3s 4ms/step - loss: 0.7328 - accuracy: 0.6957 - val_loss: 1.4419 - val_accuracy: 0.4864\n",
      "Epoch 20/50\n",
      "694/694 [==============================] - 3s 4ms/step - loss: 0.6409 - accuracy: 0.7432 - val_loss: 1.4826 - val_accuracy: 0.5053\n",
      "Epoch 21/50\n",
      "694/694 [==============================] - 3s 4ms/step - loss: 0.5623 - accuracy: 0.7749 - val_loss: 1.5031 - val_accuracy: 0.5272\n",
      "Epoch 22/50\n",
      "694/694 [==============================] - 3s 4ms/step - loss: 0.4757 - accuracy: 0.8165 - val_loss: 1.4835 - val_accuracy: 0.5447\n",
      "Epoch 23/50\n",
      "694/694 [==============================] - 3s 4ms/step - loss: 0.4129 - accuracy: 0.8445 - val_loss: 1.5561 - val_accuracy: 0.5450\n",
      "Epoch 24/50\n",
      "694/694 [==============================] - 3s 4ms/step - loss: 0.3373 - accuracy: 0.8810 - val_loss: 1.6176 - val_accuracy: 0.5588\n",
      "Epoch 25/50\n",
      "694/694 [==============================] - 3s 4ms/step - loss: 0.2767 - accuracy: 0.9036 - val_loss: 1.7814 - val_accuracy: 0.5624\n",
      "Epoch 26/50\n",
      "694/694 [==============================] - 3s 5ms/step - loss: 0.2067 - accuracy: 0.9322 - val_loss: 1.7836 - val_accuracy: 0.5839\n",
      "Epoch 27/50\n",
      "694/694 [==============================] - 3s 4ms/step - loss: 0.1928 - accuracy: 0.9372 - val_loss: 1.7926 - val_accuracy: 0.5866\n",
      "Epoch 28/50\n",
      "694/694 [==============================] - 3s 4ms/step - loss: 0.1331 - accuracy: 0.9558 - val_loss: 1.8829 - val_accuracy: 0.5886\n",
      "Epoch 29/50\n",
      "694/694 [==============================] - 3s 4ms/step - loss: 0.1509 - accuracy: 0.9515 - val_loss: 1.9162 - val_accuracy: 0.5992\n",
      "Epoch 30/50\n",
      "694/694 [==============================] - 3s 4ms/step - loss: 0.1447 - accuracy: 0.9565 - val_loss: 1.9108 - val_accuracy: 0.6024\n",
      "Epoch 31/50\n",
      "694/694 [==============================] - 4s 6ms/step - loss: 0.1002 - accuracy: 0.9648 - val_loss: 2.2970 - val_accuracy: 0.5786\n",
      "Epoch 32/50\n",
      "694/694 [==============================] - 4s 6ms/step - loss: 0.1222 - accuracy: 0.9596 - val_loss: 2.0050 - val_accuracy: 0.5890\n",
      "Epoch 33/50\n",
      "694/694 [==============================] - 4s 5ms/step - loss: 0.0937 - accuracy: 0.9668 - val_loss: 2.1663 - val_accuracy: 0.5911\n",
      "Epoch 34/50\n",
      "694/694 [==============================] - 3s 4ms/step - loss: 0.0866 - accuracy: 0.9688 - val_loss: 2.0467 - val_accuracy: 0.6115\n",
      "Epoch 35/50\n",
      "694/694 [==============================] - 3s 5ms/step - loss: 0.0839 - accuracy: 0.9689 - val_loss: 2.1540 - val_accuracy: 0.5992\n",
      "Epoch 36/50\n",
      "694/694 [==============================] - 4s 6ms/step - loss: 0.0818 - accuracy: 0.9696 - val_loss: 2.1520 - val_accuracy: 0.6109\n",
      "Epoch 37/50\n",
      "694/694 [==============================] - 5s 8ms/step - loss: 0.0803 - accuracy: 0.9695 - val_loss: 2.2616 - val_accuracy: 0.6038\n",
      "Epoch 38/50\n",
      "694/694 [==============================] - 4s 6ms/step - loss: 0.0777 - accuracy: 0.9704 - val_loss: 2.2151 - val_accuracy: 0.6104\n",
      "Epoch 39/50\n",
      "694/694 [==============================] - 5s 7ms/step - loss: 0.0775 - accuracy: 0.9695 - val_loss: 2.2852 - val_accuracy: 0.6042\n",
      "Epoch 40/50\n",
      "694/694 [==============================] - 4s 6ms/step - loss: 0.0764 - accuracy: 0.9691 - val_loss: 2.1949 - val_accuracy: 0.6046\n",
      "Epoch 41/50\n",
      "694/694 [==============================] - 4s 6ms/step - loss: 0.0792 - accuracy: 0.9687 - val_loss: 2.3331 - val_accuracy: 0.6056\n",
      "Epoch 42/50\n",
      "694/694 [==============================] - 4s 6ms/step - loss: 0.0749 - accuracy: 0.9707 - val_loss: 2.2315 - val_accuracy: 0.6093\n",
      "Epoch 43/50\n",
      "694/694 [==============================] - 4s 5ms/step - loss: 0.0727 - accuracy: 0.9702 - val_loss: 2.4111 - val_accuracy: 0.6069\n",
      "Epoch 44/50\n",
      "694/694 [==============================] - 4s 5ms/step - loss: 0.0743 - accuracy: 0.9697 - val_loss: 2.2407 - val_accuracy: 0.6113\n",
      "Epoch 45/50\n",
      "694/694 [==============================] - 3s 5ms/step - loss: 0.0723 - accuracy: 0.9700 - val_loss: 2.3092 - val_accuracy: 0.6148\n",
      "Epoch 46/50\n",
      "694/694 [==============================] - 4s 6ms/step - loss: 0.0723 - accuracy: 0.9701 - val_loss: 2.2972 - val_accuracy: 0.6144\n",
      "Epoch 47/50\n",
      "694/694 [==============================] - 4s 6ms/step - loss: 0.0703 - accuracy: 0.9705 - val_loss: 2.3059 - val_accuracy: 0.6115\n",
      "Epoch 48/50\n",
      "694/694 [==============================] - 3s 5ms/step - loss: 0.0703 - accuracy: 0.9698 - val_loss: 2.3829 - val_accuracy: 0.6147\n",
      "Epoch 49/50\n",
      "694/694 [==============================] - 5s 7ms/step - loss: 0.0704 - accuracy: 0.9701 - val_loss: 2.3034 - val_accuracy: 0.6167\n",
      "Epoch 50/50\n",
      "694/694 [==============================] - 4s 6ms/step - loss: 0.0692 - accuracy: 0.9702 - val_loss: 2.3853 - val_accuracy: 0.6102\n"
     ]
    }
   ],
   "source": [
    "model5 = keras.models.Sequential()\n",
    "model5.add(layers.Dense(1000, activation='relu', input_shape=[1000]))\n",
    "model5.add(layers.Dense(500, activation='relu'))\n",
    "model5.add(layers.Dense(250, activation='relu'))\n",
    "model5.add(layers.Dense(250, activation='relu'))\n",
    "model5.add(layers.Dense(100, activation='relu'))\n",
    "model5.add(layers.Dense(100, activation='relu'))\n",
    "model5.add(layers.Dense(5, activation='softmax'))\n",
    "\n",
    "# early_stopping = keras.callbacks.EarlyStopping(monitor='val_loss', min_delta=0, patience=5, verbose=0, mode='auto')\n",
    "\n",
    "model5.compile(loss=\"sparse_categorical_crossentropy\", optimizer=keras.optimizers.SGD(learning_rate=0.01), metrics=[\"accuracy\"])\n",
    "history = model5.fit(X_train, y_train, epochs=50, validation_data=(X_test, y_test))"
   ]
  },
  {
   "cell_type": "code",
   "execution_count": 79,
   "id": "33eb2390",
   "metadata": {},
   "outputs": [
    {
     "data": {
      "image/png": "[encoded data removed]",
      "text/plain": [
       "<Figure size 432x288 with 1 Axes>"
      ]
     },
     "metadata": {
      "needs_background": "light"
     },
     "output_type": "display_data"
    }
   ],
   "source": [
    "plt.plot(history.history['loss'], label=\"loss\")\n",
    "plt.plot(history.history['accuracy'], label=\"accuracy\")\n",
    "plt.legend()\n",
    "plt.show()"
   ]
  },
  {
   "cell_type": "code",
   "execution_count": 80,
   "id": "410a04bd",
   "metadata": {},
   "outputs": [
    {
     "data": {
      "image/png": "[encoded data removed]",
      "text/plain": [
       "<Figure size 432x288 with 1 Axes>"
      ]
     },
     "metadata": {
      "needs_background": "light"
     },
     "output_type": "display_data"
    }
   ],
   "source": [
    "plt.plot(history.history['val_loss'], label=\"val_loss\")\n",
    "plt.plot(history.history['val_accuracy'], label=\"val_accuracy\")\n",
    "plt.legend()\n",
    "plt.show()"
   ]
  },
  {
   "cell_type": "code",
   "execution_count": 81,
   "id": "42fb1b92",
   "metadata": {},
   "outputs": [
    {
     "name": "stdout",
     "output_type": "stream",
     "text": [
      "Epoch 1/50\n",
      "694/694 [==============================] - 3s 4ms/step - loss: 1.4023 - accuracy: 0.3977 - val_loss: 1.2988 - val_accuracy: 0.4583\n",
      "Epoch 2/50\n",
      "694/694 [==============================] - 2s 4ms/step - loss: 0.9209 - accuracy: 0.6367 - val_loss: 1.0752 - val_accuracy: 0.6000\n",
      "Epoch 3/50\n",
      "694/694 [==============================] - 2s 3ms/step - loss: 0.3293 - accuracy: 0.8756 - val_loss: 1.2806 - val_accuracy: 0.6443\n",
      "Epoch 4/50\n",
      "694/694 [==============================] - 2s 3ms/step - loss: 0.1560 - accuracy: 0.9438 - val_loss: 1.6397 - val_accuracy: 0.6643\n",
      "Epoch 5/50\n",
      "694/694 [==============================] - 3s 4ms/step - loss: 0.1181 - accuracy: 0.9570 - val_loss: 1.7349 - val_accuracy: 0.6682\n",
      "Epoch 6/50\n",
      "694/694 [==============================] - 2s 4ms/step - loss: 0.1102 - accuracy: 0.9592 - val_loss: 1.8929 - val_accuracy: 0.6705\n",
      "Epoch 7/50\n",
      "694/694 [==============================] - 2s 4ms/step - loss: 0.1052 - accuracy: 0.9599 - val_loss: 2.0280 - val_accuracy: 0.6660\n"
     ]
    }
   ],
   "source": [
    "model6 = keras.models.Sequential()\n",
    "model6.add(layers.Dense(1000, activation='relu', input_shape=[1000]))\n",
    "model6.add(layers.Dense(500, activation='relu'))\n",
    "model6.add(layers.Dense(5, activation='softmax'))\n",
    "\n",
    "early_stopping = keras.callbacks.EarlyStopping(monitor='val_loss', min_delta=0, patience=5, verbose=0, mode='auto')\n",
    "\n",
    "model6.compile(loss=\"sparse_categorical_crossentropy\", optimizer=keras.optimizers.Adam(lr=0.004), metrics=[\"accuracy\"])\n",
    "history = model6.fit(X_train, y_train, epochs=50, callbacks=[early_stopping], validation_data=(X_test, y_test))"
   ]
  },
  {
   "cell_type": "code",
   "execution_count": 82,
   "id": "7a983fa3",
   "metadata": {},
   "outputs": [
    {
     "name": "stdout",
     "output_type": "stream",
     "text": [
      "Epoch 1/50\n",
      "694/694 [==============================] - 4s 5ms/step - loss: 1.4760 - accuracy: 0.3590 - val_loss: 1.3865 - val_accuracy: 0.3971\n",
      "Epoch 2/50\n",
      "694/694 [==============================] - 3s 4ms/step - loss: 1.2788 - accuracy: 0.4726 - val_loss: 1.2798 - val_accuracy: 0.4647\n",
      "Epoch 3/50\n",
      "694/694 [==============================] - 3s 4ms/step - loss: 1.0044 - accuracy: 0.6021 - val_loss: 1.1785 - val_accuracy: 0.5284\n",
      "Epoch 4/50\n",
      "694/694 [==============================] - 3s 4ms/step - loss: 0.7635 - accuracy: 0.7171 - val_loss: 1.1432 - val_accuracy: 0.5796\n",
      "Epoch 5/50\n",
      "694/694 [==============================] - 3s 4ms/step - loss: 0.5825 - accuracy: 0.7962 - val_loss: 1.2308 - val_accuracy: 0.6005\n",
      "Epoch 6/50\n",
      "694/694 [==============================] - 3s 4ms/step - loss: 0.4637 - accuracy: 0.8477 - val_loss: 1.2910 - val_accuracy: 0.6309\n",
      "Epoch 7/50\n",
      "694/694 [==============================] - 3s 4ms/step - loss: 0.3695 - accuracy: 0.8805 - val_loss: 1.2656 - val_accuracy: 0.6423\n",
      "Epoch 8/50\n",
      "694/694 [==============================] - 3s 4ms/step - loss: 0.3194 - accuracy: 0.9040 - val_loss: 1.4797 - val_accuracy: 0.6487\n",
      "Epoch 9/50\n",
      "694/694 [==============================] - 3s 4ms/step - loss: 0.2843 - accuracy: 0.9156 - val_loss: 1.5335 - val_accuracy: 0.6435\n"
     ]
    }
   ],
   "source": [
    "model7 = keras.models.Sequential()\n",
    "model7.add(layers.Dense(1000, activation='relu', input_shape=[1000]))\n",
    "model7.add(layers.Dense(500, activation='relu'))\n",
    "model7.add(layers.Dropout(0.5))\n",
    "model7.add(layers.Dense(500, activation='relu'))\n",
    "model7.add(layers.Dropout(0.5))\n",
    "model7.add(layers.Dense(5, activation='softmax'))\n",
    "\n",
    "early_stopping = keras.callbacks.EarlyStopping(monitor='val_loss', min_delta=0, patience=5, verbose=0, mode='auto')\n",
    "\n",
    "model7.compile(loss=\"sparse_categorical_crossentropy\", optimizer=keras.optimizers.Adam(lr=0.004), metrics=[\"accuracy\"])\n",
    "history = model7.fit(X_train, y_train, epochs=50, callbacks=[early_stopping], validation_data=(X_test, y_test))"
   ]
  },
  {
   "cell_type": "code",
   "execution_count": 85,
   "id": "0e6d1da0",
   "metadata": {},
   "outputs": [
    {
     "ename": "InternalError",
     "evalue": "Failed copying input tensor from /job:localhost/replica:0/task:0/device:CPU:0 to /job:localhost/replica:0/task:0/device:GPU:0 in order to run _EagerConst: Dst tensor is not initialized.",
     "output_type": "error",
     "traceback": [
      "\u001b[1;31m---------------------------------------------------------------------------\u001b[0m",
      "\u001b[1;31mInternalError\u001b[0m                             Traceback (most recent call last)",
      "Input \u001b[1;32mIn [85]\u001b[0m, in \u001b[0;36m<cell line: 12>\u001b[1;34m()\u001b[0m\n\u001b[0;32m      9\u001b[0m early_stopping \u001b[38;5;241m=\u001b[39m keras\u001b[38;5;241m.\u001b[39mcallbacks\u001b[38;5;241m.\u001b[39mEarlyStopping(monitor\u001b[38;5;241m=\u001b[39m\u001b[38;5;124m'\u001b[39m\u001b[38;5;124mval_loss\u001b[39m\u001b[38;5;124m'\u001b[39m, min_delta\u001b[38;5;241m=\u001b[39m\u001b[38;5;241m0\u001b[39m, patience\u001b[38;5;241m=\u001b[39m\u001b[38;5;241m5\u001b[39m, verbose\u001b[38;5;241m=\u001b[39m\u001b[38;5;241m0\u001b[39m, mode\u001b[38;5;241m=\u001b[39m\u001b[38;5;124m'\u001b[39m\u001b[38;5;124mauto\u001b[39m\u001b[38;5;124m'\u001b[39m)\n\u001b[0;32m     11\u001b[0m model8\u001b[38;5;241m.\u001b[39mcompile(loss\u001b[38;5;241m=\u001b[39m\u001b[38;5;124m\"\u001b[39m\u001b[38;5;124msparse_categorical_crossentropy\u001b[39m\u001b[38;5;124m\"\u001b[39m, optimizer\u001b[38;5;241m=\u001b[39mkeras\u001b[38;5;241m.\u001b[39moptimizers\u001b[38;5;241m.\u001b[39mAdam(), metrics\u001b[38;5;241m=\u001b[39m[\u001b[38;5;124m\"\u001b[39m\u001b[38;5;124maccuracy\u001b[39m\u001b[38;5;124m\"\u001b[39m])\n\u001b[1;32m---> 12\u001b[0m history \u001b[38;5;241m=\u001b[39m \u001b[43mmodel8\u001b[49m\u001b[38;5;241;43m.\u001b[39;49m\u001b[43mfit\u001b[49m\u001b[43m(\u001b[49m\u001b[43mX_train\u001b[49m\u001b[43m,\u001b[49m\u001b[43m \u001b[49m\u001b[43my_train\u001b[49m\u001b[43m,\u001b[49m\u001b[43m \u001b[49m\u001b[43mepochs\u001b[49m\u001b[38;5;241;43m=\u001b[39;49m\u001b[38;5;241;43m50\u001b[39;49m\u001b[43m,\u001b[49m\u001b[43m \u001b[49m\u001b[43mcallbacks\u001b[49m\u001b[38;5;241;43m=\u001b[39;49m\u001b[43m[\u001b[49m\u001b[43mearly_stopping\u001b[49m\u001b[43m]\u001b[49m\u001b[43m,\u001b[49m\u001b[43m \u001b[49m\u001b[43mvalidation_data\u001b[49m\u001b[38;5;241;43m=\u001b[39;49m\u001b[43m(\u001b[49m\u001b[43mX_test\u001b[49m\u001b[43m,\u001b[49m\u001b[43m \u001b[49m\u001b[43my_test\u001b[49m\u001b[43m)\u001b[49m\u001b[43m)\u001b[49m\n",
      "File \u001b[1;32m~\\anaconda3\\lib\\site-packages\\keras\\utils\\traceback_utils.py:67\u001b[0m, in \u001b[0;36mfilter_traceback.<locals>.error_handler\u001b[1;34m(*args, **kwargs)\u001b[0m\n\u001b[0;32m     65\u001b[0m \u001b[38;5;28;01mexcept\u001b[39;00m \u001b[38;5;167;01mException\u001b[39;00m \u001b[38;5;28;01mas\u001b[39;00m e:  \u001b[38;5;66;03m# pylint: disable=broad-except\u001b[39;00m\n\u001b[0;32m     66\u001b[0m   filtered_tb \u001b[38;5;241m=\u001b[39m _process_traceback_frames(e\u001b[38;5;241m.\u001b[39m__traceback__)\n\u001b[1;32m---> 67\u001b[0m   \u001b[38;5;28;01mraise\u001b[39;00m e\u001b[38;5;241m.\u001b[39mwith_traceback(filtered_tb) \u001b[38;5;28;01mfrom\u001b[39;00m \u001b[38;5;28mNone\u001b[39m\n\u001b[0;32m     68\u001b[0m \u001b[38;5;28;01mfinally\u001b[39;00m:\n\u001b[0;32m     69\u001b[0m   \u001b[38;5;28;01mdel\u001b[39;00m filtered_tb\n",
      "File \u001b[1;32m~\\anaconda3\\lib\\site-packages\\tensorflow\\python\\framework\\constant_op.py:102\u001b[0m, in \u001b[0;36mconvert_to_eager_tensor\u001b[1;34m(value, ctx, dtype)\u001b[0m\n\u001b[0;32m    100\u001b[0m     dtype \u001b[38;5;241m=\u001b[39m dtypes\u001b[38;5;241m.\u001b[39mas_dtype(dtype)\u001b[38;5;241m.\u001b[39mas_datatype_enum\n\u001b[0;32m    101\u001b[0m ctx\u001b[38;5;241m.\u001b[39mensure_initialized()\n\u001b[1;32m--> 102\u001b[0m \u001b[38;5;28;01mreturn\u001b[39;00m \u001b[43mops\u001b[49m\u001b[38;5;241;43m.\u001b[39;49m\u001b[43mEagerTensor\u001b[49m\u001b[43m(\u001b[49m\u001b[43mvalue\u001b[49m\u001b[43m,\u001b[49m\u001b[43m \u001b[49m\u001b[43mctx\u001b[49m\u001b[38;5;241;43m.\u001b[39;49m\u001b[43mdevice_name\u001b[49m\u001b[43m,\u001b[49m\u001b[43m \u001b[49m\u001b[43mdtype\u001b[49m\u001b[43m)\u001b[49m\n",
      "\u001b[1;31mInternalError\u001b[0m: Failed copying input tensor from /job:localhost/replica:0/task:0/device:CPU:0 to /job:localhost/replica:0/task:0/device:GPU:0 in order to run _EagerConst: Dst tensor is not initialized."
     ]
    }
   ],
   "source": [
    "model8 = keras.models.Sequential()\n",
    "model8.add(layers.Dense(200, activation='tanh', input_shape=[1000]))\n",
    "model8.add(layers.Dense(200, activation='tanh'))\n",
    "model8.add(layers.Dropout(0.5))\n",
    "model8.add(layers.Dense(100, activation='tanh'))\n",
    "model8.add(layers.Dropout(0.5))\n",
    "model8.add(layers.Dense(5, activation='softmax'))\n",
    "\n",
    "early_stopping = keras.callbacks.EarlyStopping(monitor='val_loss', min_delta=0, patience=5, verbose=0, mode='auto')\n",
    "\n",
    "model8.compile(loss=\"sparse_categorical_crossentropy\", optimizer=keras.optimizers.Adam(), metrics=[\"accuracy\"])\n",
    "history = model8.fit(X_train, y_train, epochs=50, callbacks=[early_stopping], validation_data=(X_test, y_test))"
   ]
  },
  {
   "cell_type": "code",
   "execution_count": null,
   "id": "49d09966",
   "metadata": {},
   "outputs": [],
   "source": []
  }
 ],
 "metadata": {
  "kernelspec": {
   "display_name": "Python 3 (ipykernel)",
   "language": "python",
   "name": "python3"
  },
  "language_info": {
   "codemirror_mode": {
    "name": "ipython",
    "version": 3
   },
   "file_extension": ".py",
   "mimetype": "text/x-python",
   "name": "python",
   "nbconvert_exporter": "python",
   "pygments_lexer": "ipython3",
   "version": "3.9.12"
  }
 },
 "nbformat": 4,
 "nbformat_minor": 5
}
